{
 "cells": [
  {
   "cell_type": "code",
   "execution_count": 1,
   "id": "d2a29ee1",
   "metadata": {},
   "outputs": [],
   "source": [
    "import numpy as np\n",
    "from numba import njit\n",
    "from scipy.linalg import cholesky\n",
    "import anDiffReg as an"
   ]
  },
  {
   "cell_type": "code",
   "execution_count": 2,
   "id": "af410fba",
   "metadata": {},
   "outputs": [],
   "source": [
    "# exemplary data: simulated fractional Brownian motion\n",
    "\n",
    "n = 10**4 # number of trajectories\n",
    "H, D = 0.4, 1 # FBM parameters: Hurst index H and diffusivity D\n",
    "ln = 100 # trajectory length\n",
    "dt = 1 # time interval\n",
    "ts = dt * np.arange(1, ln+1)\n",
    "\n",
    "\n",
    "def K(s, t): # FBM covariance\n",
    "    return D * (t**(2*H) + s**(2*H) - np.abs(s - t)**(2*H))\n",
    "\n",
    "S = np.array([[K(s, t) for t in ts] for s in ts])\n",
    "A = cholesky(S, lower=False)\n",
    "xi = np.random.randn(len(ts), n)\n",
    "X = A.T @ xi\n",
    "xi = np.random.randn(len(ts), n) \n",
    "Y = A.T @ xi"
   ]
  },
  {
   "cell_type": "code",
   "execution_count": 3,
   "id": "4f829fed",
   "metadata": {},
   "outputs": [],
   "source": [
    "## TA-MSD analysis\n",
    "\n",
    "msd = an.tamsd(np.dstack((X,Y))) # TA-MSD of 2D traj"
   ]
  },
  {
   "cell_type": "code",
   "execution_count": 18,
   "id": "a5fb64ff",
   "metadata": {},
   "outputs": [],
   "source": [
    "ols = an.fit_ols(msd, 2, dt)"
   ]
  },
  {
   "cell_type": "code",
   "execution_count": 19,
   "id": "0e2f524a",
   "metadata": {},
   "outputs": [
    {
     "data": {
      "text/plain": [
       "array([-6.12241976e-04,  7.90298243e-01])"
      ]
     },
     "execution_count": 19,
     "metadata": {},
     "output_type": "execute_result"
    }
   ],
   "source": [
    "np.mean(ols, axis = 1)"
   ]
  },
  {
   "cell_type": "code",
   "execution_count": 20,
   "id": "d6010e8a",
   "metadata": {},
   "outputs": [
    {
     "data": {
      "text/plain": [
       "array([[ 0.00247726, -0.00199446],\n",
       "       [-0.00199446,  0.01144049]])"
      ]
     },
     "execution_count": 20,
     "metadata": {},
     "output_type": "execute_result"
    }
   ],
   "source": [
    "np.cov(ols)"
   ]
  },
  {
   "cell_type": "code",
   "execution_count": 4,
   "id": "9c3d10f0",
   "metadata": {},
   "outputs": [
    {
     "name": "stderr",
     "output_type": "stream",
     "text": [
      "d:\\GitHub\\DH\\anDiffReg.py:101: NumbaPerformanceWarning: \u001b[1m\u001b[1m'@' is faster on contiguous arrays, called on (Array(float64, 2, 'C', False, aligned=True), Array(float64, 2, 'A', False, aligned=True))\u001b[0m\u001b[0m\n",
      "  gR = np.linalg.inv(Ts.T @ iC[:, :, j0] @ Ts) @ Ts.T @ iC[:, :, j0]\n"
     ]
    }
   ],
   "source": [
    "gls, covGLS = an.fit_gls(msd, 2, dt, np.full(10**4,0.8)) "
   ]
  },
  {
   "cell_type": "code",
   "execution_count": 5,
   "id": "41f19797",
   "metadata": {},
   "outputs": [
    {
     "data": {
      "text/plain": [
       "array([-4.05795993e-04,  7.99860115e-01])"
      ]
     },
     "execution_count": 5,
     "metadata": {},
     "output_type": "execute_result"
    }
   ],
   "source": [
    "np.mean(gls, axis = 1)"
   ]
  },
  {
   "cell_type": "code",
   "execution_count": 7,
   "id": "fd515dff",
   "metadata": {},
   "outputs": [
    {
     "data": {
      "text/plain": [
       "array([[ 0.00196419, -0.00072089],\n",
       "       [-0.00072089,  0.00762311]])"
      ]
     },
     "execution_count": 7,
     "metadata": {},
     "output_type": "execute_result"
    }
   ],
   "source": [
    "np.cov(gls)"
   ]
  },
  {
   "cell_type": "code",
   "execution_count": 9,
   "id": "98188317",
   "metadata": {},
   "outputs": [],
   "source": [
    "glsP, covGLSP = an.fit_gls(msd[:,:100], 2, dt, np.full(10**4,0.8), precompute = False)\n",
    "# covariance computed for each trajectory, could be slow if there are many"
   ]
  },
  {
   "cell_type": "code",
   "execution_count": null,
   "id": "a3dc3ed0",
   "metadata": {},
   "outputs": [],
   "source": [
    "## trajectories with noise\n",
    "\n",
    "D, sigma = 5, 1\n",
    "\n",
    "X2 = np.sqrt(D)*X + sigma*np.random.randn(len(ts), n)\n",
    "msd2 = an.tamsd(X2)"
   ]
  },
  {
   "cell_type": "code",
   "execution_count": 16,
   "id": "06b9328b",
   "metadata": {},
   "outputs": [],
   "source": [
    "gls2, covGLS2 = an.fit_gls(msd2, 1, 1, np.full(10**4,2*H), np.full(10**4,D), sigma)\n",
    "# initial estimates of α, D and σ must be used "
   ]
  },
  {
   "cell_type": "code",
   "execution_count": 17,
   "id": "96855ecb",
   "metadata": {},
   "outputs": [
    {
     "data": {
      "text/plain": [
       "array([0.69788459, 0.79886057])"
      ]
     },
     "execution_count": 17,
     "metadata": {},
     "output_type": "execute_result"
    }
   ],
   "source": [
    "np.mean(gls2, axis=1)"
   ]
  },
  {
   "cell_type": "code",
   "execution_count": 18,
   "id": "bb0c5ad5",
   "metadata": {},
   "outputs": [
    {
     "data": {
      "text/plain": [
       "array([[ 0.00604832, -0.00358441],\n",
       "       [-0.00358441,  0.01846064]])"
      ]
     },
     "execution_count": 18,
     "metadata": {},
     "output_type": "execute_result"
    }
   ],
   "source": [
    "np.cov(gls2)"
   ]
  }
 ],
 "metadata": {
  "kernelspec": {
   "display_name": "base",
   "language": "python",
   "name": "python3"
  },
  "language_info": {
   "codemirror_mode": {
    "name": "ipython",
    "version": 3
   },
   "file_extension": ".py",
   "mimetype": "text/x-python",
   "name": "python",
   "nbconvert_exporter": "python",
   "pygments_lexer": "ipython3",
   "version": "3.13.5"
  }
 },
 "nbformat": 4,
 "nbformat_minor": 5
}
