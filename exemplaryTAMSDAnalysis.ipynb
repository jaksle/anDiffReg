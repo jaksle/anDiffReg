{
 "cells": [
  {
   "cell_type": "code",
   "execution_count": null,
   "id": "d2a29ee1",
   "metadata": {},
   "outputs": [],
   "source": [
    "import numpy as np\n",
    "from numba import njit\n",
    "from scipy.linalg import cholesky\n",
    "import anDiffReg as an"
   ]
  },
  {
   "cell_type": "code",
   "execution_count": null,
   "id": "af410fba",
   "metadata": {},
   "outputs": [],
   "source": [
    "# exemplary data: simulated fractional Brownian motion\n",
    "\n",
    "n = 10**4 # number of trajectories\n",
    "alpha, D = 0.8, 1 # FBM parameters: Hurst index H and diffusivity D\n",
    "ln = 100 # trajectory length\n",
    "dt = 1 # time interval\n",
    "ts = dt * np.arange(1, ln+1)\n",
    "\n",
    "\n",
    "def K(s, t): # FBM covariance\n",
    "    return D * (t**alpha + s**alpha - np.abs(s - t)**alpha)\n",
    "\n",
    "S = np.array([[K(s, t) for t in ts] for s in ts])\n",
    "A = cholesky(S, lower=False)\n",
    "xi = np.random.randn(len(ts), n)\n",
    "X = A.T @ xi\n",
    "xi = np.random.randn(len(ts), n) \n",
    "Y = A.T @ xi"
   ]
  },
  {
   "cell_type": "code",
   "execution_count": null,
   "id": "74c5fb0e",
   "metadata": {},
   "outputs": [],
   "source": [
    "# alternatively, load data from the file\n",
    "\n",
    "import pandas as pd\n",
    "df = pd.read_csv('exemplaryData/2D FBM.csv')\n",
    "X, Y = df.values[:,::2], df.values[:,1::2]\n",
    "\n",
    "ln, n = X.shape\n",
    "dt = 1 \n",
    "ts = dt * np.arange(1, ln+1)\n",
    "alpha = 0.8 # used only optionally for initial estimate"
   ]
  },
  {
   "cell_type": "code",
   "execution_count": null,
   "id": "4f829fed",
   "metadata": {},
   "outputs": [],
   "source": [
    "# TA-MSD analysis\n",
    "\n",
    "msd = an.tamsd(np.dstack((X,Y))) # TA-MSD of 2D traj\n",
    "ols = an.fit_ols(msd, 2, dt)"
   ]
  },
  {
   "cell_type": "code",
   "execution_count": null,
   "id": "0e2f524a",
   "metadata": {},
   "outputs": [],
   "source": [
    "np.mean(ols, axis = 1), np.cov(ols)"
   ]
  },
  {
   "cell_type": "code",
   "execution_count": null,
   "id": "9c3d10f0",
   "metadata": {},
   "outputs": [],
   "source": [
    "gls, covGLS = an.fit_gls(msd, 2, dt, np.full(10**4,0.8)) "
   ]
  },
  {
   "cell_type": "code",
   "execution_count": null,
   "id": "41f19797",
   "metadata": {},
   "outputs": [],
   "source": [
    "np.mean(gls, axis = 1), np.cov(gls)"
   ]
  },
  {
   "cell_type": "code",
   "execution_count": null,
   "id": "98188317",
   "metadata": {},
   "outputs": [],
   "source": [
    "# covariance is computed for each trajectory, could be slow if there are many\n",
    "\n",
    "glsP, covGLSP = an.fit_gls(msd[:,:100], 2, dt, np.full(10**4,0.8), precompute = False)"
   ]
  },
  {
   "cell_type": "code",
   "execution_count": null,
   "id": "a3dc3ed0",
   "metadata": {},
   "outputs": [],
   "source": [
    "## trajectories with noise\n",
    "\n",
    "D, sigma = 5, 1\n",
    "\n",
    "X2 = np.sqrt(D)*X + sigma*np.random.randn(len(ts), n)\n",
    "msd2 = an.tamsd(X2)\n",
    "\n",
    "# initial estimates of bot alpha and D must be used, sigma must be known \n",
    "gls2, covGLS2 = an.fit_gls(msd2, 1, 1, np.full(10**4,alpha), np.full(10**4,D), sigma)"
   ]
  },
  {
   "cell_type": "code",
   "execution_count": null,
   "id": "96855ecb",
   "metadata": {},
   "outputs": [],
   "source": [
    "np.mean(gls2, axis=1), np.cov(gls2)"
   ]
  }
 ],
 "metadata": {
  "kernelspec": {
   "display_name": "base",
   "language": "python",
   "name": "python3"
  },
  "language_info": {
   "codemirror_mode": {
    "name": "ipython",
    "version": 3
   },
   "file_extension": ".py",
   "mimetype": "text/x-python",
   "name": "python",
   "nbconvert_exporter": "python",
   "pygments_lexer": "ipython3",
   "version": "3.13.5"
  }
 },
 "nbformat": 4,
 "nbformat_minor": 5
}
